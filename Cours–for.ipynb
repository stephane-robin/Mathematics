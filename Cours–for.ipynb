{
 "cells": [
  {
   "cell_type": "markdown",
   "metadata": {},
   "source": [
    "# La boucle `for`\n",
    "*Ce document est publié sous licence libre Creative Commons CC-BY-SA.*\n",
    "____\n",
    "\n",
    "## Parcourir des séquences\n",
    "Il est très fréquent de devoir traiter l'intégralité d'une *séquence* (chaîne de caractères, listes, tuples, ...) pour effectuer une opération sur chacun des éléments. Ce type de traitements répétitifs peut être effectué à l'aide d'une boucle `while` :"
   ]
  },
  {
   "cell_type": "code",
   "execution_count": 1,
   "metadata": {},
   "outputs": [
    {
     "name": "stdout",
     "output_type": "stream",
     "text": [
      "p * y * t * h * o * n * "
     ]
    }
   ],
   "source": [
    "mot = \"python\"\n",
    "index = 0\n",
    "while index < len(mot) :\n",
    "    print(mot[index],\"* \",end=\"\")\n",
    "    index = index + 1"
   ]
  },
  {
   "cell_type": "markdown",
   "metadata": {},
   "source": [
    "Mais c'est assez fastidieux et *Python* propose une méthode beaucoup plus pratique à l'aide d'une **boucle `for`**:"
   ]
  },
  {
   "cell_type": "code",
   "execution_count": null,
   "metadata": {},
   "outputs": [],
   "source": [
    "mot = \"c++\"\n",
    "for lettre in mot :\n",
    "    print(lettre,\"* \",end=\"\")"
   ]
  },
  {
   "cell_type": "markdown",
   "metadata": {},
   "source": [
    "Plusieurs choses sont à noter dans le code précédent :\n",
    "+ À la deuxième ligne, la répétition est spécifiée par le couple `for` ... `in` ... .\n",
    "+ À la fin de la deuxième ligne, le caractère **`:`** est obligatoire car il annonce le début d'une section de code.\n",
    "+ La section de code à répéter est éloignée du bord gauche de la fenêtre de **4 espaces**, on dit qu'elle est **indentée**. Cela est obligatoire après une instruction `for` et permet d'identifier clairement la section.\n",
    "\n",
    "---\n",
    ">🏆  *__À vous de jouer__ – dans la cellule suivante :*  🏆\n",
    "+ Afficher des tirets `-` entre les lettres de la chaîne de caractères `maChaine`."
   ]
  },
  {
   "cell_type": "code",
   "execution_count": 3,
   "metadata": {},
   "outputs": [],
   "source": [
    "maChaine = \"Bienvenue\"\n",
    "# Afficher des tirets entre les lettres de maChaine\n",
    "\n",
    "\n",
    "\n",
    "\n"
   ]
  },
  {
   "cell_type": "markdown",
   "metadata": {},
   "source": [
    "---"
   ]
  },
  {
   "cell_type": "markdown",
   "metadata": {},
   "source": [
    "Dans l'exemple ci-dessus, la séquence était une chaîne de caractères. L'exemple ci-après démontre que l'on peut appliquer le même traitement aux tuples et aux listes : "
   ]
  },
  {
   "cell_type": "code",
   "execution_count": 4,
   "metadata": {},
   "outputs": [
    {
     "name": "stdout",
     "output_type": "stream",
     "text": [
      "| vert |\n",
      "| bleu |\n",
      "| noir |\n"
     ]
    }
   ],
   "source": [
    "# Pour les tuples\n",
    "monTupleCouleur = (\"vert\", \"bleu\", \"noir\")\n",
    "for couleur in monTupleCouleur :\n",
    "    print(\"|\",couleur,\"|\")"
   ]
  },
  {
   "cell_type": "code",
   "execution_count": 6,
   "metadata": {},
   "outputs": [
    {
     "name": "stdout",
     "output_type": "stream",
     "text": [
      "La longueur de la chaîne éléphant = 8\n",
      "La longueur de la chaîne tigre = 5\n",
      "La longueur de la chaîne chien = 5\n",
      "La longueur de la chaîne chat = 4\n"
     ]
    }
   ],
   "source": [
    "# Pour les listes\n",
    "maListe = [\"éléphant\", \"tigre\", \"chien\", \"chat\"]\n",
    "for animal in maListe :\n",
    "    print(\"La longueur de la chaîne\",animal,\"=\",len(animal))\n",
    "    "
   ]
  },
  {
   "cell_type": "markdown",
   "metadata": {},
   "source": [
    "---\n",
    ">🏆  *__À vous de jouer__ – dans la cellule suivante :*  🏆\n",
    "+ Afficher les chaînes de caractères de `maListe` en ajoutant un point d'exclamation `!` à la fin de chacune."
   ]
  },
  {
   "cell_type": "code",
   "execution_count": 5,
   "metadata": {},
   "outputs": [
    {
     "name": "stdout",
     "output_type": "stream",
     "text": [
      "En avant !Super !Bravo !"
     ]
    }
   ],
   "source": [
    "maListe = [\"En avant\",\"Super\",\"Bravo\"]\n",
    "# Afficher les différentes chaines de caractères contenues dans maListe avec ! à la fin\n",
    "\n",
    "for mot in maListe:\n",
    "    print(mot, \"!\", end=\"\")"
   ]
  },
  {
   "cell_type": "markdown",
   "metadata": {},
   "source": [
    "---"
   ]
  },
  {
   "cell_type": "markdown",
   "metadata": {},
   "source": [
    "## La fonction `range()`\n",
    "La fonction `range()` est très utile en python car elle permet de **générer une séquence de nombres entiers** que l'on peut directement convertir en une *liste* (`list()`) ou un *tuple* (`tuple()`) :"
   ]
  },
  {
   "cell_type": "code",
   "execution_count": 6,
   "metadata": {},
   "outputs": [
    {
     "data": {
      "text/plain": [
       "[0, 1, 2, 3, 4]"
      ]
     },
     "execution_count": 6,
     "metadata": {},
     "output_type": "execute_result"
    }
   ],
   "source": [
    "list(range(5))"
   ]
  },
  {
   "cell_type": "code",
   "execution_count": 10,
   "metadata": {},
   "outputs": [
    {
     "data": {
      "text/plain": [
       "(0, 1, 2)"
      ]
     },
     "execution_count": 10,
     "metadata": {},
     "output_type": "execute_result"
    }
   ],
   "source": [
    "tuple(range(3))"
   ]
  },
  {
   "cell_type": "markdown",
   "metadata": {},
   "source": [
    "`range()` est aussi énormément utilisé pour piloter les itérations d'une boucle `for` :"
   ]
  },
  {
   "cell_type": "code",
   "execution_count": 12,
   "metadata": {},
   "outputs": [
    {
     "name": "stdout",
     "output_type": "stream",
     "text": [
      "0\n",
      "2\n",
      "4\n"
     ]
    }
   ],
   "source": [
    "for num in range(0,5,2):\n",
    "    print(num)"
   ]
  },
  {
   "cell_type": "markdown",
   "metadata": {},
   "source": [
    "Dans l'exemple précédent, la fonction `range(5)` génère la séquence `[0, 1, 2, 3, 4]`, puis l'instruction `for` s'occupe de parcourir les éléments de la séquence l'un après l'autre.\n",
    "\n",
    "\n",
    "La fonction `range()` peut prendre jusqu'à 3 paramètres :\n",
    "```python\n",
    "                                range(FROM, TO, STEP)\n",
    "```\n",
    "+ **FROM** : le premier nombre entier généré *(par défaut =0)*\n",
    "+ **TO**   : le nombre entier auquel la séquence s'arrête (ce nombre est exclu de la séquence) *(paramètre OBLIGATOIRE)*\n",
    "+ **STEP** : le \"pas\" à sauter pour passer d'une valeur à une autre *(par défaut =1)*\n",
    "\n",
    "\n",
    "On peut donc aussi appeler `range()` avec moins de paramètres :\n",
    "```python\n",
    "                               range(FROM, TO)\n",
    "                               range(TO)\n",
    "```\n",
    "Voici quelques exemples :"
   ]
  },
  {
   "cell_type": "code",
   "execution_count": 1,
   "metadata": {},
   "outputs": [
    {
     "data": {
      "text/plain": [
       "[1, 3, 5, 7, 9]"
      ]
     },
     "execution_count": 1,
     "metadata": {},
     "output_type": "execute_result"
    }
   ],
   "source": [
    "list(range(1,10,2))"
   ]
  },
  {
   "cell_type": "code",
   "execution_count": 2,
   "metadata": {},
   "outputs": [
    {
     "data": {
      "text/plain": [
       "[5, 6, 7, 8, 9]"
      ]
     },
     "execution_count": 2,
     "metadata": {},
     "output_type": "execute_result"
    }
   ],
   "source": [
    "list(range(5,10))"
   ]
  },
  {
   "cell_type": "code",
   "execution_count": 13,
   "metadata": {},
   "outputs": [
    {
     "data": {
      "text/plain": [
       "[0, 1, 2, 3, 4, 5, 6, 7]"
      ]
     },
     "execution_count": 13,
     "metadata": {},
     "output_type": "execute_result"
    }
   ],
   "source": [
    "list(range(8))"
   ]
  },
  {
   "cell_type": "code",
   "execution_count": 14,
   "metadata": {},
   "outputs": [
    {
     "data": {
      "text/plain": [
       "[-12, -10, -8, -6, -4]"
      ]
     },
     "execution_count": 14,
     "metadata": {},
     "output_type": "execute_result"
    }
   ],
   "source": [
    "list(range(-12,-2,2))"
   ]
  },
  {
   "cell_type": "code",
   "execution_count": 3,
   "metadata": {},
   "outputs": [
    {
     "data": {
      "text/plain": [
       "[0, 1, 2]"
      ]
     },
     "execution_count": 3,
     "metadata": {},
     "output_type": "execute_result"
    }
   ],
   "source": [
    "list(range(len(\"abc\")))"
   ]
  },
  {
   "cell_type": "markdown",
   "metadata": {},
   "source": [
    "---\n",
    ">🏆  *__À vous de jouer__ – dans les 3 cellules suivantes :*  🏆\n",
    "+ Compléter le code qui permet de réaliser la tâche précisée en commentaire."
   ]
  },
  {
   "cell_type": "code",
   "execution_count": 8,
   "metadata": {},
   "outputs": [
    {
     "name": "stdout",
     "output_type": "stream",
     "text": [
      "[3, 6, 9, 12]\n"
     ]
    }
   ],
   "source": [
    " print(list(range(3, 13, 3))) # Afficher la séquence [3, 6, 9, 12]"
   ]
  },
  {
   "cell_type": "code",
   "execution_count": 9,
   "metadata": {},
   "outputs": [
    {
     "name": "stdout",
     "output_type": "stream",
     "text": [
      "[0, 1, 2, 3, 4]\n"
     ]
    }
   ],
   "source": [
    "print(list(range(5)))      # Afficher la séquence [0,1,2,3,4]"
   ]
  },
  {
   "cell_type": "code",
   "execution_count": 10,
   "metadata": {},
   "outputs": [
    {
     "name": "stdout",
     "output_type": "stream",
     "text": [
      "[9, 8, 7, 6]\n"
     ]
    }
   ],
   "source": [
    "print(list(range(9, 5, -1)))               # Afficher la séquence [9,8,7,6]"
   ]
  },
  {
   "cell_type": "markdown",
   "metadata": {},
   "source": [
    "---"
   ]
  },
  {
   "cell_type": "markdown",
   "metadata": {},
   "source": [
    "## Initialiser une séquence\n",
    "Pour initialiser des *listes* ou des *tuples* avec des valeurs non-constantes, on pourra donc utiliser plusieurs méthodes :\n",
    "+ La fonction `list()` et la fonction `range()`\n",
    "+ Une boucle `for` et la fonction `range()`\n",
    "\n",
    "Voici un exemple :"
   ]
  },
  {
   "cell_type": "code",
   "execution_count": 15,
   "metadata": {},
   "outputs": [
    {
     "name": "stdout",
     "output_type": "stream",
     "text": [
      "[0, 1, 2, 3, 4, 5, 6, 7, 8, 9]\n",
      "[-2, -1, 6, 25, 62, 123, 214, 341, 510, 727]\n"
     ]
    }
   ],
   "source": [
    "maListe1 = list(range(10))\n",
    "print(maListe1)\n",
    "\n",
    "maListe2 = [i for i in range(10)]\n",
    "print(maListe2)"
   ]
  },
  {
   "cell_type": "markdown",
   "metadata": {},
   "source": [
    "---\n",
    ">🏆  *__À vous de jouer__ – dans les 3 cellules suivantes :*  🏆\n",
    "+ Initialiser la liste `ListePair` avec 10 nombres pairs\n",
    "+ Initialiser la liste `ListeImpair` avec 10 nombres impairs"
   ]
  },
  {
   "cell_type": "code",
   "execution_count": 14,
   "metadata": {},
   "outputs": [
    {
     "name": "stdout",
     "output_type": "stream",
     "text": [
      "[0, 2, 4, 6, 8, 10, 12, 14, 16, 18, 20]\n",
      "[-1, 1, 3, 5, 7, 9, 11, 13, 15, 17, 19]\n"
     ]
    }
   ],
   "source": [
    "ListePair = ???      # À modifier\n",
    "ListeImpair = ???      # À modifier\n",
    "\n",
    "print(ListePair)       # À ne pas modifier\n",
    "print(ListeImpair)     # À ne pas modifier "
   ]
  },
  {
   "cell_type": "markdown",
   "metadata": {},
   "source": [
    "---"
   ]
  },
  {
   "cell_type": "code",
   "execution_count": null,
   "metadata": {},
   "outputs": [],
   "source": []
  }
 ],
 "metadata": {
  "kernelspec": {
   "display_name": "Python 3",
   "language": "python",
   "name": "python3"
  },
  "language_info": {
   "codemirror_mode": {
    "name": "ipython",
    "version": 3
   },
   "file_extension": ".py",
   "mimetype": "text/x-python",
   "name": "python",
   "nbconvert_exporter": "python",
   "pygments_lexer": "ipython3",
   "version": "3.7.0"
  }
 },
 "nbformat": 4,
 "nbformat_minor": 2
}
