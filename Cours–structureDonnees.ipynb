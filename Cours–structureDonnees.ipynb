{
 "cells": [
  {
   "cell_type": "markdown",
   "metadata": {},
   "source": [
    "# Structures de données : liste, tuple et dictionnaire\n",
    "*Ce document est publié sous licence libre Creative Commons CC-BY-SA.*\n",
    "____\n",
    "\n",
    "Trois structures de données, assez similaires sont très utilisées en Python. Il s'agit des _**listes**_, des _**tuples**_ et des _**dictionnaires**_. Dans les trois cas, le but est d'avoir à disposition un ensemble d'éléments stockés dans une variable. L'avantage ? Lorsqu'on manipule une liste, un tuple ou un dictionnaire, on manipule en une fois un grand nombre d'éléments.\n",
    "\n",
    "Avant de découvrir ces trois structures, voici un exemple de liste, de tuple et de dictionnaire :"
   ]
  },
  {
   "cell_type": "code",
   "execution_count": null,
   "metadata": {},
   "outputs": [],
   "source": [
    "maListe = [\"lun\", \"mar\", \"mer\", \"jeu\", \"ven\", \"sam\", \"dim\"]\n",
    "\n",
    "monTuple = (\"lun\", 18, \"oct\", 2021)\n",
    "\n",
    "monDictionnaire = {\"prenom\":\"Paul\",\"nom\":\"Dupont\",\"age\":57}"
   ]
  },
  {
   "cell_type": "markdown",
   "metadata": {},
   "source": [
    "Dans une liste ou un tuple, l'ordre est important. Ils représentent **collections ordonnées d'objets** (des séquences).Il est intéressant de remarquer que les chaînes de caractères font aussi partie de cette famille de structure de donnée.\n",
    "Les divers éléments qui constituent une séquence sont, en effet, toujours disposés dans le même ordre et l'on peut accéder à chacun d'eux individuellement si l'on connaît son **index** dans la liste.\n",
    "\n",
    "\n",
    "## Les listes\n",
    "### Accéder aux éléments d'une liste\n",
    "Les *listes* sont, en général, des ensembles d'éléments homogènes (de même nature) ordonnés. On peut donc repérer les éléments grâce à un **index** qui correspond à sa position (attention, l'index commence toujours à 0 pour le premier élément).  \n",
    "Pour créer une *liste*, il faut déclarer une suite d'éléments entre crochets."
   ]
  },
  {
   "cell_type": "code",
   "execution_count": 7,
   "metadata": {},
   "outputs": [
    {
     "name": "stdout",
     "output_type": "stream",
     "text": [
      "lundi\n",
      "mardi\n",
      "mercredi\n",
      "\n",
      "mardi\n",
      "['mardi', 'mercredi']\n",
      "['lundi', 'mardi', 'mercredi']\n"
     ]
    }
   ],
   "source": [
    "maListe = [\"lundi\", \"mardi\", \"mercredi\"]\n",
    "\n",
    "for i in range(0,3):\n",
    "    print(maListe[i])\n",
    "print()\n",
    "print(maListe[1])       # affiche mardi\n",
    "print(maListe[1:3])     # affiche ['mardi', 'mercredi']\n",
    "print(maListe)          # affiche ['lundi', 'mardi', 'mercredi']"
   ]
  },
  {
   "cell_type": "markdown",
   "metadata": {},
   "source": [
    "---\n",
    "> 🏆 **À vous de jouer** 🏆 : *Dans la cellule suivante, corriger les parties de code afin qu'elles correspondent aux commentaires.*"
   ]
  },
  {
   "cell_type": "code",
   "execution_count": 8,
   "metadata": {},
   "outputs": [
    {
     "name": "stdout",
     "output_type": "stream",
     "text": [
      "janvier\n",
      "['juin', 'juillet']\n",
      "['janvier', 'février', 'mars', 'avril', 'mai', 'juin', 'juillet', 'août', 'septembre', 'octobre', 'novembre', 'décembre']\n"
     ]
    }
   ],
   "source": [
    "mois = [\"janvier\", \"février\", \"mars\", \"avril\", \"mai\", \"juin\", \"juillet\", \"août\",\"septembre\",\"octobre\",\"novembre\",\"décembre\"]\n",
    "print(mois[0])      # affiche janvier\n",
    "print(mois[5:7])      # affiche ['juin', 'juillet']\n",
    "print(mois)      # affiche la liste entière des mois de l'année\n"
   ]
  },
  {
   "cell_type": "markdown",
   "metadata": {},
   "source": [
    "---"
   ]
  },
  {
   "cell_type": "markdown",
   "metadata": {},
   "source": [
    "### Initialiser une liste\n",
    "Il existe d'autres façons pour créer (*initialiser*) une liste :"
   ]
  },
  {
   "cell_type": "code",
   "execution_count": 8,
   "metadata": {},
   "outputs": [
    {
     "name": "stdout",
     "output_type": "stream",
     "text": [
      "[]\n",
      "[]\n",
      "[0, 0, 0, 0, 0, 0, 0, 0, 0, 0]\n"
     ]
    }
   ],
   "source": [
    "maListe = []              # on crée une liste vide\n",
    "print(maListe)\n",
    "\n",
    "une_autre_liste = list()\n",
    "print(une_autre_liste)\n",
    "\n",
    "maListe = [0]*10\n",
    "print(maListe)            # donne [0, 0, 0, 0, 0, 0, 0, 0, 0, 0]"
   ]
  },
  {
   "cell_type": "markdown",
   "metadata": {},
   "source": [
    "### Quelques méthodes des listes\n",
    "\n",
    "Comme les chaînes de caractères, les listes sont des **_objets_** possédant un certain nombre de méthodes très utiles.En voici quelques exemples :\n",
    "\n",
    "+ Ajouter un élément à la fin de la liste `.append()`"
   ]
  },
  {
   "cell_type": "code",
   "execution_count": 15,
   "metadata": {},
   "outputs": [
    {
     "name": "stdout",
     "output_type": "stream",
     "text": [
      "[5, 0, 2, 1, 2, 7]\n"
     ]
    }
   ],
   "source": [
    "maListe=[5,0,2,1,2]\n",
    "maListe.append(7)     # entre parenthèses : valeur de l'élément\n",
    "print(maListe)"
   ]
  },
  {
   "cell_type": "markdown",
   "metadata": {},
   "source": [
    "+ Retirer un élément de la liste : `.remove()`"
   ]
  },
  {
   "cell_type": "code",
   "execution_count": 17,
   "metadata": {},
   "outputs": [
    {
     "name": "stdout",
     "output_type": "stream",
     "text": [
      "[5, 0, 1, 7]\n"
     ]
    }
   ],
   "source": [
    "maListe.remove(2)     # entre parenthèses : valeur de l'élément\n",
    "print(maListe)         "
   ]
  },
  {
   "cell_type": "markdown",
   "metadata": {},
   "source": [
    "+ Trier la liste (du plus petit au plus grand) : `.sort()`  \n",
    "*__Remarques__ : Pour les chaînes de caractères, `.sort()` utilise le code ASCII de chaque caractère ce qui correspond à une sorte d'ordre alphabétique puisque le code de chaque lettre est croissant. Par contre, attention à ne pas mélanger les mots écrits en majuscules et ceux écrits en minuscules ! car toutes les majuscules apparaissent avant les minuscules dans la table ASCII...*"
   ]
  },
  {
   "cell_type": "code",
   "execution_count": 18,
   "metadata": {},
   "outputs": [
    {
     "name": "stdout",
     "output_type": "stream",
     "text": [
      "[0, 1, 5, 7]\n",
      "['Zoo', 'abricot', 'arbre', 'bois', 'zoo']\n",
      "90\n",
      "97\n"
     ]
    }
   ],
   "source": [
    "maListe.sort()    # Tri des nombres dans l'ordre croissant\n",
    "print(maListe)\n",
    "\n",
    "stringListe = [\"Zoo\",\"zoo\",\"arbre\", \"abricot\", \"bois\"]\n",
    "stringListe.sort()    # utilise le code ASCII de chaque lettre pour trier\n",
    "print(stringListe)\n",
    "\n",
    "print(ord(\"Z\"))  # affiche le code ASCII de \"Z\"\n",
    "print(ord(\"a\"))  # affiche le code ASCII de \"a\""
   ]
  },
  {
   "cell_type": "markdown",
   "metadata": {},
   "source": [
    "+ Compter le nombre d'occurrences d'un élément donné : `.count()`"
   ]
  },
  {
   "cell_type": "code",
   "execution_count": 1,
   "metadata": {},
   "outputs": [
    {
     "data": {
      "text/plain": [
       "2"
      ]
     },
     "execution_count": 1,
     "metadata": {},
     "output_type": "execute_result"
    }
   ],
   "source": [
    "maListe2 = [\"a\",\"b\",\"c\",\"a\",\"b\",\"c\"]\n",
    "maListe2.count(\"c\")    # donne 2 car 2 fois le 'c'"
   ]
  },
  {
   "cell_type": "markdown",
   "metadata": {},
   "source": [
    "---\n",
    "> 🏆 **À vous de jouer**🏆 : *Dans la cellule suivante, corriger les parties de code afin qu'elles correspondent aux commentaires.*"
   ]
  },
  {
   "cell_type": "code",
   "execution_count": 2,
   "metadata": {},
   "outputs": [
    {
     "name": "stdout",
     "output_type": "stream",
     "text": [
      "2\n",
      "['fromage', 'lait', 'pain', 'radis', 'tomates']\n"
     ]
    }
   ],
   "source": [
    "ListeDeCourses = [\"pain\", \"tomates\", \"radis\", \"lait\", \"lait\"]\n",
    "\n",
    "ListeDeCourses.???        # ajoute du fromage à la liste de courses\n",
    "\n",
    "print(ListeDeCourses.???) # affiche le nombre de \"lait\" dans la liste\n",
    "\n",
    "ListeDeCourses.???                      # supprime une occurrence de lait qui apparait 2 fois\n",
    "\n",
    "\n",
    "ListeDeCourses.???                    # trie par ordre alphabétique la liste (on tri les valeurs ASCII...) \n",
    "\n",
    "print(ListeDeCourses)\n"
   ]
  },
  {
   "cell_type": "markdown",
   "metadata": {},
   "source": [
    "---"
   ]
  },
  {
   "cell_type": "markdown",
   "metadata": {},
   "source": [
    "Un grand nombre d'autres méthodes existent, une liste plus complète peut être retrouvée dans le lien suivant :  \n",
    "<https://docs.python.org/fr/3/tutorial/datastructures.html>\n",
    "\n",
    "### Quelques fonctions/instructions applicables aux listes\n",
    "\n",
    "+ Supprimer un élément d'une liste en connaissant son index : instruction `del`  "
   ]
  },
  {
   "cell_type": "code",
   "execution_count": 3,
   "metadata": {},
   "outputs": [
    {
     "name": "stdout",
     "output_type": "stream",
     "text": [
      "['a', 'c', 'a', 'b', 'c']\n"
     ]
    }
   ],
   "source": [
    "maListe=[\"a\",\"b\",\"c\",\"a\",\"b\",\"c\"]\n",
    "del maListe[1]        # supprime l'élément d'index 1\n",
    "print(maListe)"
   ]
  },
  {
   "cell_type": "markdown",
   "metadata": {},
   "source": [
    "+ Connaître le nombre d'éléments contenus dans une liste : fonction `len()`"
   ]
  },
  {
   "cell_type": "code",
   "execution_count": null,
   "metadata": {},
   "outputs": [],
   "source": [
    "print(len(maListe))"
   ]
  },
  {
   "cell_type": "markdown",
   "metadata": {},
   "source": [
    "---\n",
    "> 🏆 **À vous de jouer** 🏆 : *Dans la cellule suivante, corriger les parties de code afin qu'elles correspondent aux commentaires.*"
   ]
  },
  {
   "cell_type": "code",
   "execution_count": 4,
   "metadata": {},
   "outputs": [
    {
     "name": "stdout",
     "output_type": "stream",
     "text": [
      "6\n",
      "['mathématiques', 'physique', 'français', 'histoire', 'chimie']\n"
     ]
    }
   ],
   "source": [
    "mesMatieres = [\"mathématiques\", \"physique\", \"français\",\"histoire\",\"informatique\",\"chimie\"]\n",
    "\n",
    "print(???         # affiche le nombre de d'élément de la liste\n",
    "\n",
    "???                          # supprime \"informatique\" de la liste à l'aide de l'instruction del\n",
    "print(mesMatieres)"
   ]
  },
  {
   "cell_type": "markdown",
   "metadata": {},
   "source": [
    "---"
   ]
  },
  {
   "cell_type": "markdown",
   "metadata": {},
   "source": [
    "### Modifier un élément de la liste\n",
    "On peut modifier la valeur d'un élément d'une liste en utilisant son numéro d'index :"
   ]
  },
  {
   "cell_type": "code",
   "execution_count": 5,
   "metadata": {},
   "outputs": [
    {
     "name": "stdout",
     "output_type": "stream",
     "text": [
      "[1000, 32, 46, 2]\n"
     ]
    }
   ],
   "source": [
    "maListe = [124,32,46,2]\n",
    "maListe[0] = 1000\n",
    "print(maListe)"
   ]
  },
  {
   "cell_type": "markdown",
   "metadata": {},
   "source": [
    "---\n",
    "> 🏆 **À vous de jouer** 🏆 : *Dans la cellule suivante, sans modifier pas les lignes 1 et 6, remplacer les `???` par `\"mercredi\"` dans la liste `jours`.*"
   ]
  },
  {
   "cell_type": "code",
   "execution_count": 6,
   "metadata": {},
   "outputs": [
    {
     "name": "stdout",
     "output_type": "stream",
     "text": [
      "Le mercredi est le jour préféré de beaucoup d'enfants.\n"
     ]
    }
   ],
   "source": [
    "jours = [\"lundi\", \"mardi\",\"???\",\"jeudi\",\"vendredi\",\"samedi\",\"dimanche\"] # ne pas modifier cette ligne\n",
    "\n",
    "???             # Remplacer les ??? par mercredi dans la liste\n",
    "\n",
    "\n",
    "print(\"Le\",jours[2],\"est le jour préféré de beaucoup d'enfants.\")  # ne pas modifier cette ligne"
   ]
  },
  {
   "cell_type": "markdown",
   "metadata": {},
   "source": [
    "---"
   ]
  },
  {
   "cell_type": "markdown",
   "metadata": {},
   "source": [
    "#### Une erreur courante\n",
    "Si vous demandez à Python d'utiliser un index qui n'existe pas, vous obtiendrez une erreur:"
   ]
  },
  {
   "cell_type": "code",
   "execution_count": null,
   "metadata": {},
   "outputs": [],
   "source": [
    "maListe=[1, 2, 4, 8]\n",
    "print(maListe[4])        # code initial : print(maListe[4])"
   ]
  },
  {
   "cell_type": "markdown",
   "metadata": {},
   "source": [
    "---\n",
    "> 🏆 **À vous de jouer** 🏆 : *Dans la cellule précédente, corriger le code  afin qu'il ne génère plus d'erreur.*\n",
    "---"
   ]
  },
  {
   "cell_type": "markdown",
   "metadata": {},
   "source": [
    "Bien que ce ne soit pas recommandé (les listes contiennent normalement des données homogènes), il faut savoir qu'on peut mélanger tous les types de données au sein d'une même liste :"
   ]
  },
  {
   "cell_type": "code",
   "execution_count": null,
   "metadata": {},
   "outputs": [],
   "source": [
    "maListe=[\"test\",34,56,1,False,33.4]"
   ]
  },
  {
   "cell_type": "markdown",
   "metadata": {},
   "source": [
    "### Opérations sur les listes\n",
    "Les listes peuvent être additionnées ou multipliées :"
   ]
  },
  {
   "cell_type": "code",
   "execution_count": 1,
   "metadata": {},
   "outputs": [
    {
     "name": "stdout",
     "output_type": "stream",
     "text": [
      "['a', 'b', 20, 21]\n",
      "[20, 21, 'a', 'b']\n",
      "[20, 21, 20, 21]\n"
     ]
    }
   ],
   "source": [
    "liste1 = [\"a\",\"b\"]\n",
    "liste2 = [20,21]\n",
    "print(liste1 + liste2)\n",
    "print(liste2 + liste1)\n",
    "print(2 * liste2)   "
   ]
  },
  {
   "cell_type": "markdown",
   "metadata": {},
   "source": [
    "---\n",
    "> 🏆 *__À vous de jouer__ 🏆 – dans la cellule suivante :*\n",
    "+ *initialiser la liste `listeZero` avec 10 zéros (sans taper les 10 zéros)*.\n",
    "+ *initialiser la liste `listeUn` avec 10 uns (sans taper les 10 uns)*.\n",
    "+ *concaténer les 2 listes pour fabriquer la liste `listeBinaire`*."
   ]
  },
  {
   "cell_type": "code",
   "execution_count": 13,
   "metadata": {},
   "outputs": [
    {
     "name": "stdout",
     "output_type": "stream",
     "text": [
      "[0, 0, 0, 0, 0, 0, 0, 0, 0, 0]\n",
      "[1, 1, 1, 1, 1, 1, 1, 1, 1, 1]\n",
      "[0, 0, 0, 0, 0, 0, 0, 0, 0, 0, 1, 1, 1, 1, 1, 1, 1, 1, 1, 1]\n"
     ]
    }
   ],
   "source": [
    "listeZero = [0] * 10     # initialiser la liste listeZero avec 10 zéros\n",
    "\n",
    "listeUn = [1] * 10         # initialiser la liste listeUn avec 10 uns\n",
    "listeBinaire = listeZero + listeUn         # concaténer les 2 listes pour fabriquer la liste listeBinaire.\n",
    "    \n",
    "print(listeZero)\n",
    "print(listeUn)\n",
    "print(listeBinaire)"
   ]
  },
  {
   "cell_type": "markdown",
   "metadata": {},
   "source": [
    "---"
   ]
  },
  {
   "cell_type": "markdown",
   "metadata": {},
   "source": [
    "### Parcourir une liste\n",
    "Pour parcourir l'ensemble des valeurs contenues dans une liste, on utilise une boucle `for` :"
   ]
  },
  {
   "cell_type": "code",
   "execution_count": null,
   "metadata": {},
   "outputs": [],
   "source": [
    "liste = [\"a\",\"b\",\"c\",\"d\"]\n",
    "for i in liste :\n",
    "    print(i)        # donne a, puis b, puis c, puis d"
   ]
  },
  {
   "cell_type": "markdown",
   "metadata": {},
   "source": [
    "---\n",
    "> 🏆 *__À vous de jouer__ 🏆 – dans la cellule suivante :*\n",
    "+ Afficher toutes les valeurs de listeCouleurs à l'aide d'une boucle `for`."
   ]
  },
  {
   "cell_type": "code",
   "execution_count": 3,
   "metadata": {},
   "outputs": [
    {
     "name": "stdout",
     "output_type": "stream",
     "text": [
      "bleu vert jaune rouge orange noir "
     ]
    }
   ],
   "source": [
    "listeCouleurs = [\"bleu\", \"vert\", \"jaune\", \"rouge\", \"orange\", \"noir\"]\n",
    "\n",
    "# Affiche toutes les couleurs présentes dans listeCouleurs\n"
   ]
  },
  {
   "cell_type": "markdown",
   "metadata": {},
   "source": [
    "---"
   ]
  },
  {
   "cell_type": "markdown",
   "metadata": {},
   "source": [
    "### Test d'appartenance\n",
    "Pour savoir si un élément se trouve dans une liste donnée, on utilise l'instruction `in` qui retourne une valeur booléenne :"
   ]
  },
  {
   "cell_type": "code",
   "execution_count": 4,
   "metadata": {},
   "outputs": [
    {
     "name": "stdout",
     "output_type": "stream",
     "text": [
      "11 est dans maListe\n"
     ]
    }
   ],
   "source": [
    "maListe = [1,3,5,7,11,13]\n",
    "if 4 in maListe :       # donne False\n",
    "    print(\"4 est dans maListe\")\n",
    "if 11 in maListe :      # donne True\n",
    "    print(\"11 est dans maListe\")\n",
    "    "
   ]
  },
  {
   "cell_type": "markdown",
   "metadata": {},
   "source": [
    "---\n",
    "> 🏆 *__À vous de jouer__ 🏆 – dans la cellule suivante :*\n",
    "+ Afficher *Il faut aller à la boulangerie* si \"pain\" est dans la liste `listeCourses`. "
   ]
  },
  {
   "cell_type": "code",
   "execution_count": 5,
   "metadata": {},
   "outputs": [
    {
     "name": "stdout",
     "output_type": "stream",
     "text": [
      "il faut aller à la boulangerie\n"
     ]
    }
   ],
   "source": [
    "listeCourses = [\"tomates\",\"savon\",\"pommes\",\"carottes\",\"jambon\",\"pain\",\"beurre\",\"café\",\"thé\",\"chocolat\"]\n",
    "\n",
    "# Afficher le message si pain est contenu dans listeCourses\n",
    "if \"pain\" in listeCourses:\n",
    "    print(\"il faut aller à la boulangerie\")"
   ]
  },
  {
   "cell_type": "markdown",
   "metadata": {},
   "source": [
    "---"
   ]
  },
  {
   "cell_type": "markdown",
   "metadata": {},
   "source": [
    "### Liste de listes\n",
    "De la même façon, on peut créer des listes de listes (liste contenant des listes que l'on nommera ici sous-listes). Une liste de listes possède deux index : le premier désigne une sous-liste parmi toutes les sous-listes contenues, puis le second index désigne un élément au sein de la sous-liste sélectionnée. Comme toujours, les index commencent à 0. Exemple :"
   ]
  },
  {
   "cell_type": "code",
   "execution_count": 6,
   "metadata": {},
   "outputs": [
    {
     "name": "stdout",
     "output_type": "stream",
     "text": [
      "-5\n"
     ]
    }
   ],
   "source": [
    "maListe = [[34, 8,56],  # contient 3 sous-listes d'index 0,\n",
    "           [ 7,-1,-9],  #                                1,\n",
    "           [-5,43,19]]  #                                2.\n",
    "print(maListe[2][0])"
   ]
  },
  {
   "cell_type": "markdown",
   "metadata": {},
   "source": [
    "Alors, `maListe[2][0]` contient la valeur -5 (celle de l'élément 0 situé dans la sous-liste d'index 2).\n",
    "\n",
    "---\n",
    "> 🏆 *__À vous de jouer__ 🏆 – dans la cellule suivante :*\n",
    "+ Afficher la dernière valeur de la première sous-liste (`56`) en utilisant `maListe`."
   ]
  },
  {
   "cell_type": "code",
   "execution_count": 7,
   "metadata": {},
   "outputs": [
    {
     "name": "stdout",
     "output_type": "stream",
     "text": [
      "56\n"
     ]
    }
   ],
   "source": [
    "# Afficher la valeur 56 en utilisant maListe.\n",
    "print(maListe[0][2])"
   ]
  },
  {
   "cell_type": "markdown",
   "metadata": {},
   "source": [
    "---"
   ]
  },
  {
   "cell_type": "markdown",
   "metadata": {},
   "source": [
    "## Les tuples\n",
    "Les _**tuples**_ sont des ensembles hétérogènes d'éléments qui ont, ensemble, une signification (ex : coordonnées d'un vecteur, date d'un jour, etc.). C'est pour cette raison que contrairement aux listes, les éléments d'un tuple ne sont pas **modifiables**. Il faut modifier le tuple entier.  \n",
    "\n",
    "Pour définir un tuple on utilise des parenthèses,`()` (non obligatoire, mais alors le code perd en lisibilité), en séparant les éléments par des virgules, `,`."
   ]
  },
  {
   "cell_type": "code",
   "execution_count": 8,
   "metadata": {},
   "outputs": [
    {
     "name": "stdout",
     "output_type": "stream",
     "text": [
      "(1, 2, 3)\n",
      "(1, 'un nom')\n"
     ]
    }
   ],
   "source": [
    "monTuple = (1,2,3)\n",
    "print(monTuple)         # donne (1, 2, 3)\n",
    "\n",
    "# attention aux tuples d'un seul élément\n",
    "# il faut ajouter une virgule après le premier élément\n",
    "monTuple = (1, \"un nom\")\n",
    "print(monTuple)         # donne (1,)"
   ]
  },
  {
   "cell_type": "markdown",
   "metadata": {},
   "source": [
    "---\n",
    "> 🏆 *__À vous de jouer__ 🏆 – dans la cellule suivante :*\n",
    "+ Créer un tuple contenant votre nom, prénom et âge."
   ]
  },
  {
   "cell_type": "code",
   "execution_count": null,
   "metadata": {},
   "outputs": [],
   "source": [
    " # Votre tuple\n",
    "    monTuple = (,,)"
   ]
  },
  {
   "cell_type": "markdown",
   "metadata": {},
   "source": [
    "---"
   ]
  },
  {
   "cell_type": "markdown",
   "metadata": {},
   "source": [
    "### Les dictionnaires\n",
    "Un _**dictionnaire**_ est un type d'ensemble pour lequel chaque élément est repéré par une _**clé**_ plutôt que par un index. Lors de la création, il faut donc déclarer la clé pour chaque élément. Les différents clés et éléments d'un dictionnaire sont énumérés entre accolades `{}`."
   ]
  },
  {
   "cell_type": "code",
   "execution_count": 10,
   "metadata": {},
   "outputs": [
    {
     "name": "stdout",
     "output_type": "stream",
     "text": [
      "{'prenom': 'Paul', 'nom': 'Dupont', 'age': 17}\n"
     ]
    }
   ],
   "source": [
    "joueur1 = {\"prenom\":\"Paul\",\"nom\":\"Dupont\",\"age\":17}\n",
    "print(joueur1)     # donne {'prenom': 'Paul', 'age': 17, 'nom': 'Dupont'}"
   ]
  },
  {
   "cell_type": "markdown",
   "metadata": {},
   "source": [
    "Dans le dictionnaire `joueur1`, les clés sont `\"prenom\"`, `\"nom\"` et `\"age\"`.  \n",
    "Pour modifier la valeur d'un élément du dictionnaire, on doit en préciser la clé de cet élément :"
   ]
  },
  {
   "cell_type": "code",
   "execution_count": 11,
   "metadata": {},
   "outputs": [
    {
     "name": "stdout",
     "output_type": "stream",
     "text": [
      "{'prenom': 'Paul', 'nom': 'Dupont', 'age': 18}\n"
     ]
    }
   ],
   "source": [
    "joueur1[\"age\"] = 18\n",
    "print(joueur1)"
   ]
  },
  {
   "cell_type": "markdown",
   "metadata": {},
   "source": [
    "Pour accéder aux valeurs du dictionnaire, il est possible d'utiliser directement la clé de l'élément concerné ou bien d'appeler la méthode `.get()` (car les dictionnaires sont aussi des objets !) :"
   ]
  },
  {
   "cell_type": "code",
   "execution_count": 13,
   "metadata": {},
   "outputs": [
    {
     "name": "stdout",
     "output_type": "stream",
     "text": [
      "Paul\n",
      "Paul\n"
     ]
    }
   ],
   "source": [
    "print(joueur1[\"prenom\"])\n",
    "print(joueur1.get(\"prenom\"))"
   ]
  },
  {
   "cell_type": "markdown",
   "metadata": {},
   "source": [
    "---\n",
    "> 🏆 *__À vous de jouer__ 🏆 – dans la cellule suivante :*\n",
    "+ Créer un dictionnaire contenant les clés \"bateau\", \"vélo\" et \"voiture\" avec pour valeurs associées leurs traductions en anglais. "
   ]
  },
  {
   "cell_type": "code",
   "execution_count": null,
   "metadata": {},
   "outputs": [],
   "source": []
  },
  {
   "cell_type": "markdown",
   "metadata": {},
   "source": [
    "---"
   ]
  }
 ],
 "metadata": {
  "kernelspec": {
   "display_name": "Python 3",
   "language": "python",
   "name": "python3"
  },
  "language_info": {
   "codemirror_mode": {
    "name": "ipython",
    "version": 3
   },
   "file_extension": ".py",
   "mimetype": "text/x-python",
   "name": "python",
   "nbconvert_exporter": "python",
   "pygments_lexer": "ipython3",
   "version": "3.7.0"
  }
 },
 "nbformat": 4,
 "nbformat_minor": 2
}
